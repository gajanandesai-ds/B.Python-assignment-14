{
 "cells": [
  {
   "cell_type": "raw",
   "id": "32f53211",
   "metadata": {},
   "source": [
    "1. What does RGBA stand for?"
   ]
  },
  {
   "cell_type": "raw",
   "id": "c33264c8",
   "metadata": {},
   "source": [
    "ans: RGBA stands for red green blue alpha. Whilw it is sometimes describe as a color space, it is actually simply a use of the RGB color model, with extra alpha channel information."
   ]
  },
  {
   "cell_type": "code",
   "execution_count": null,
   "id": "6de6c209",
   "metadata": {},
   "outputs": [],
   "source": []
  },
  {
   "cell_type": "raw",
   "id": "bbb2e6ed",
   "metadata": {},
   "source": [
    "2. From the Pillow module, how do you get the RGBA value of any images?"
   ]
  },
  {
   "cell_type": "raw",
   "id": "f537dfe9",
   "metadata": {},
   "source": [
    "ans: pillow offers the ImagesColor. getcolor() function so you dont have to memorize RGBA values for the color you want to use. This function takes a color name string as its first argument and the string RGBA as its second arguments and the string RGBA as its second argument  and it returns an RGBA tuples.\n",
    "\n",
    "Every image is made up of pixels and when these va;ues are extracted using python, four values are obtained for each pixel(R,G,B,A).This is called the rgba color space having the red, green blue colour and alpha value respectively."
   ]
  },
  {
   "cell_type": "code",
   "execution_count": null,
   "id": "adf70da1",
   "metadata": {},
   "outputs": [],
   "source": []
  },
  {
   "cell_type": "raw",
   "id": "630594d6",
   "metadata": {},
   "source": [
    "3. What is a box tuple, and how does it work?"
   ]
  },
  {
   "cell_type": "raw",
   "id": "221e042f",
   "metadata": {},
   "source": [
    "ans: The box.tuple submodule orivdes read-only access for the tuple userdata type. it allow for a single tuples: selective retrieval of the filed contains, retrievl of information about size, intertion over all the filds and convertion to a lua table."
   ]
  },
  {
   "cell_type": "code",
   "execution_count": null,
   "id": "bb1128ac",
   "metadata": {},
   "outputs": [],
   "source": []
  },
  {
   "cell_type": "raw",
   "id": "f44705f7",
   "metadata": {},
   "source": [
    "4. Use your image and load in notebook then, How can you find out the width and height of an\n",
    "Image object?"
   ]
  },
  {
   "cell_type": "raw",
   "id": "3e742d25",
   "metadata": {},
   "source": [
    "ans: To find out width and height of an image object in Python, you can use the 'PIL' module.\n",
    "\n",
    "'''python\n",
    "from PIL import image\n",
    "\n",
    "# Load the image\n",
    "image=image.open(\"path_to_image\"/image.jgp\")#Replace\"path_to_image\"with the actul path of your image file\n",
    "\n",
    "#Get the width and height width,height=image.size\n",
    "\n",
    "#Print the width and height\n",
    "print(\"width\",width)\n",
    "print(\"height:\",height)\n",
    "\n",
    "In this program,we first import the 'image' class from the PIL module using the from PIL import image statement.This class provides various methods to work with image.\n",
    "next we use the open()method of the image class to open and load the image file.Replace \"path_to_image/image.jgp\"with the actual path of your image file.\n",
    "after loading the image we use the size attribute of the image object to get the width and height values. This attribute returns a tuples containing the width and height of the image.\n",
    "\n",
    "finally we print the width and height values using the print()function."
   ]
  },
  {
   "cell_type": "code",
   "execution_count": null,
   "id": "3bdd77b1",
   "metadata": {},
   "outputs": [],
   "source": []
  },
  {
   "cell_type": "raw",
   "id": "fa5b2e45",
   "metadata": {},
   "source": [
    "5. What method would you call to get Image object for a 100×100 image, excluding the lower-left\n",
    "quarter of it?"
   ]
  },
  {
   "cell_type": "raw",
   "id": "01a4df29",
   "metadata": {},
   "source": [
    "ans:You can use the crop() method from PIL module to extract the desired region.\n",
    "\n",
    "#load the image\n",
    "\n",
    "#crop the image to excluded the lower-left quarter\n",
    "\n",
    "#get the width and height of the cropped image\n",
    "\n",
    "#print the width and height...\n",
    "\n",
    "in this example we load the image then we use crop() method and specify the coordnates of the region we want extract, which in this case excludes the lower-left quarter. The crop() method takes a tuple(left upper,right lower)as the arguments where(left upper) as the argument where(left upper) represent the top left coordinate and(right lower)represents the bottom right coordinate of the region.\n",
    "after cropping the image we can use the size attribute to get the width and height of the cropped image.\n",
    "\n",
    "when you run this program it will uotput the width and height of the cropped image."
   ]
  },
  {
   "cell_type": "code",
   "execution_count": null,
   "id": "bba92772",
   "metadata": {},
   "outputs": [],
   "source": []
  },
  {
   "cell_type": "raw",
   "id": "c9c34d6c",
   "metadata": {},
   "source": [
    "6. After making changes to an Image object, how could you save it as an image file?"
   ]
  },
  {
   "cell_type": "raw",
   "id": "fbeac578",
   "metadata": {},
   "source": [
    "ans: once you have made changes to an image object using the PIL module in python. you can save it as an image file using the save() method. you need to specify the dssired file name and format for the save image.\n",
    "\n",
    "python\n",
    "from PIL import image\n",
    "#load the image\n",
    "#make changes to the image object\n",
    "#save the modified image\n",
    "\n",
    "we first load the image using the image.open() method. then after making any desired changes to the image object we use to save() method to save the modified image. In this save() methods you need to provied the path and name of the new image file you want to create. make sure to specify the correct file extension based on the image format.you wish to save it in(e.g \"jpg\",Png\"\"bmp\")\n",
    "after running this program the modified image will be saved as \"modified_image.jpg\""
   ]
  },
  {
   "cell_type": "code",
   "execution_count": null,
   "id": "daad3b56",
   "metadata": {},
   "outputs": [],
   "source": []
  },
  {
   "cell_type": "raw",
   "id": "0bb1f485",
   "metadata": {},
   "source": [
    "7. What module contains Pillow’s shape-drawing code?"
   ]
  },
  {
   "cell_type": "raw",
   "id": "0adaa320",
   "metadata": {},
   "source": [
    "ans:The 'ImageDraw module provides simple 2D graphics support for image object.Generally,we use this  module to create new image, annotate or retouch exiting images and to genrate graphics o the fly for we use."
   ]
  },
  {
   "cell_type": "code",
   "execution_count": null,
   "id": "69ed9107",
   "metadata": {},
   "outputs": [],
   "source": []
  },
  {
   "cell_type": "raw",
   "id": "d34da72d",
   "metadata": {},
   "source": [
    "8. Image objects do not have drawing methods. What kind of object does? How do you get this kind\n",
    "of object?"
   ]
  },
  {
   "cell_type": "raw",
   "id": "6951cc20",
   "metadata": {},
   "source": [
    "ans: "
   ]
  },
  {
   "cell_type": "code",
   "execution_count": null,
   "id": "d018d39a",
   "metadata": {},
   "outputs": [],
   "source": []
  }
 ],
 "metadata": {
  "kernelspec": {
   "display_name": "Python 3",
   "language": "python",
   "name": "python3"
  },
  "language_info": {
   "codemirror_mode": {
    "name": "ipython",
    "version": 3
   },
   "file_extension": ".py",
   "mimetype": "text/x-python",
   "name": "python",
   "nbconvert_exporter": "python",
   "pygments_lexer": "ipython3",
   "version": "3.8.8"
  }
 },
 "nbformat": 4,
 "nbformat_minor": 5
}
